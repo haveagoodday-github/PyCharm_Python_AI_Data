{
 "cells": [
  {
   "cell_type": "code",
   "execution_count": null,
   "id": "e96225d1-0f35-4c17-ae55-8a2d6d2d9160",
   "metadata": {},
   "outputs": [],
   "source": [
    "# ChromeDriver下载地址：https://chromedriver.storage.googleapis.com/index.html\n",
    "# 最新Chrome版本的Driver下载地址：https://googlechromelabs.github.io/chrome-for-testing/#stable\n",
    "# 把ChromeDriver放到Python的根目录下\n",
    "# pip install selenium"
   ]
  },
  {
   "cell_type": "code",
   "execution_count": 6,
   "id": "d59de584-174a-4ffc-859c-b906d0c121dc",
   "metadata": {},
   "outputs": [],
   "source": [
    "from selenium import webdriver\n",
    "dr = webdriver.Chrome()\n",
    "url = \"https://www.baidu.com/\"\n",
    "dr.get(url)"
   ]
  },
  {
   "cell_type": "code",
   "execution_count": null,
   "id": "c86afbea-c06c-4cd6-a8fb-d5ce5053730c",
   "metadata": {},
   "outputs": [],
   "source": []
  }
 ],
 "metadata": {
  "kernelspec": {
   "display_name": "Python 3 (ipykernel)",
   "language": "python",
   "name": "python3"
  },
  "language_info": {
   "codemirror_mode": {
    "name": "ipython",
    "version": 3
   },
   "file_extension": ".py",
   "mimetype": "text/x-python",
   "name": "python",
   "nbconvert_exporter": "python",
   "pygments_lexer": "ipython3",
   "version": "3.8.1"
  }
 },
 "nbformat": 4,
 "nbformat_minor": 5
}
