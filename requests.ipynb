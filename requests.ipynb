{
 "cells": [
  {
   "cell_type": "code",
   "execution_count": null,
   "outputs": [],
   "source": [
    "# TODO: pip install pymysql requests beautifulsoup4 tqdm\n",
    "# 豆瓣源\n",
    "# TODO: pip install pymysql requests beautifulsoup4 tqdm -i https://pypi.douban.com/simple\n",
    "# 清华大学源\n",
    "# TODO: pip install pymysql requests beautifulsoup4 tqdm -i https://pypi.tuna.tsinghua.edu.cn/simple"
   ],
   "metadata": {
    "collapsed": false
   },
   "id": "320ebdece891e275"
  },
  {
   "cell_type": "code",
   "execution_count": 104,
   "id": "8b63924a2448b4b9",
   "metadata": {
    "ExecuteTime": {
     "end_time": "2023-11-22T18:59:55.744950Z",
     "start_time": "2023-11-22T18:59:55.744077Z"
    },
    "collapsed": false
   },
   "outputs": [],
   "source": [
    "import pymysql\n",
    "\n",
    "def replaceNT(content: str) -> str:\n",
    "  return content.replace(\"\\n\", \"\").replace('\\t', \"\")\n",
    "\n",
    "def connectMySQL(insertData):\n",
    "    def wrapper(title: str, item: dict):\n",
    "        # 连接数据库\n",
    "        try:\n",
    "            connect = pymysql.connect(\n",
    "                host='localhost',\n",
    "                user='root',\n",
    "                password='root',\n",
    "                port=3306,\n",
    "                db='photoworldForPython',  # 指定数据库\n",
    "                autocommit=True,  # 自动提交到数据库\n",
    "                auth_plugin_map=\"mysql_native_password\"\n",
    "            )\n",
    "            # print(\"Databases Connect Success\")\n",
    "        \n",
    "            db = connect.cursor(pymysql.cursors.DictCursor)  # 创建游标，查询数据以字典形式返回，默认以元组形式返回\n",
    "            \n",
    "            insertData(db, title, item)\n",
    "            \n",
    "            db.close()  # 关闭数据库\n",
    "        except Exception as e:\n",
    "            print(\"Databases Connect Error:\", e)\n",
    "            pass\n",
    "    return wrapper\n",
    "@connectMySQL\n",
    "def insertData(db, title: str, item: dict) -> None:\n",
    "    mysqlStatement = '''\n",
    "                INSERT INTO PageForImage (title, imgURL, content, tags, time, type, author, detailsURL)\n",
    "                VALUES ('{title}', '{imgURL}', '{content}', '{tags}', '{time}', '{type}', '{author}', '{detailsURL}');\n",
    "            '''.format(\n",
    "        title=title,\n",
    "        imgURL = item['imgurl'],\n",
    "        content = item['excerpt'],\n",
    "        tags = ', '.join(item['tags']),\n",
    "        time = item['Meta']['recent_time']['datetime'],\n",
    "        type = item['Meta']['recent_cat']['content'],\n",
    "        author = item['Meta']['recent_author']['content'],\n",
    "        detailsURL = item['link']\n",
    "    )\n",
    "    db.execute(mysqlStatement)"
   ]
  },
  {
   "cell_type": "code",
   "execution_count": 105,
   "id": "initial_id",
   "metadata": {
    "ExecuteTime": {
     "end_time": "2023-11-22T18:59:56.417796Z",
     "start_time": "2023-11-22T18:59:55.751930Z"
    },
    "collapsed": false
   },
   "outputs": [
    {
     "name": "stdout",
     "output_type": "stream",
     "text": [
      "11\n"
     ]
    }
   ],
   "source": [
    "import requests\n",
    "from bs4 import BeautifulSoup\n",
    "from tqdm import tqdm\n",
    "import time\n",
    "WAIT_TIME_SECONDS = 0  # 设置默认的等待时间\n",
    "# url = \"https://www.photoworld.com.cn/\"\n",
    "url = \"https://www.photoworld.com.cn/category/images\"\n",
    "response = requests.get(url)\n",
    "response.encoding = 'UTF-8'\n",
    "page_num: int = 1\n",
    "# 检查请求是否成功\n",
    "if response.status_code == 200:\n",
    "    # print(response.status_code)\n",
    "    soup = BeautifulSoup(response.text, 'html.parser')\n",
    "    page_num = soup.find_all('a', {'class' : 'page-numbers'})[-2].string\n",
    "page_num = int(page_num)\n",
    "print(page_num)"
   ]
  },
  {
   "cell_type": "code",
   "execution_count": 106,
   "id": "7140485cb1f93463",
   "metadata": {
    "ExecuteTime": {
     "end_time": "2023-11-22T19:00:02.979441Z",
     "start_time": "2023-11-22T18:59:56.422537Z"
    },
    "collapsed": false
   },
   "outputs": [
    {
     "name": "stderr",
     "output_type": "stream",
     "text": [
      "100%|██████████| 11/11 [00:06<00:00,  1.69it/s]\n"
     ]
    }
   ],
   "source": [
    "page_resultArray = []\n",
    "for num in tqdm(range(1,page_num+1)):\n",
    "  page_url = 'https://www.photoworld.com.cn/category/images/page/' + str(num)\n",
    "  response = requests.get(url)\n",
    "  # 检查请求是否成功\n",
    "soup = BeautifulSoup(response.text, 'html.parser') if response.status_code == 200 else None\n",
    "articles = soup.find_all('article')\n",
    "resultArray = []\n",
    "for article in articles:\n",
    "    data = {}\n",
    "    try:\n",
    "      imgurl = article.find('a').find('img').get('src')\n",
    "      link = article.find('h3').find('a').get('href')\n",
    "      title = replaceNT(article.find('h3').find('a').text)\n",
    "      excerpt = replaceNT(article.find('p', {'class': 'big-thumb-excerpt'}).text)\n",
    "      tags = [i.text for i in article.find('p', {'class': 'tag'}).find_all('a')]\n",
    "      recent_time = {'time': replaceNT(article.find('time', {'class': 'recent-time'}).text), 'datetime': article.find('time', {'class': 'recent-time'}).get('datetime')}\n",
    "      recent_cat = {\n",
    "          'content': article.find('span', {'class': 'recent-cat'}).text.replace(\"\\n\", \"\"),\n",
    "                    'url': article.find('span', {'class': 'recent-cat'}).find('a').get('href')\n",
    "                    }\n",
    "      recent_author = {\n",
    "          'content': article.find('span', {'class': 'recent-author'}).text.replace(\"\\n\", \"\"),\n",
    "          'url': article.find('span', {'class': 'recent-author'}).find('a').get('href')\n",
    "      }\n",
    "      data[title] = {\n",
    "              \"imgurl\": imgurl,\n",
    "              \"excerpt\": excerpt,\n",
    "              \"tags\": tags,\n",
    "              \"Meta\": {\n",
    "                  \"recent_time\": recent_time,\n",
    "                  \"recent_cat\": recent_cat,\n",
    "                  \"recent_author\": recent_author\n",
    "              },\n",
    "              \"link\": link\n",
    "          }\n",
    "      resultArray.append(data)\n",
    "    except Exception as e:\n",
    "      print(\"append data Error\", e)\n",
    "      resultArray.append(\"None\")\n",
    "    page_resultArray.append(resultArray)\n",
    "    time.sleep(WAIT_TIME_SECONDS) \n",
    "    "
   ]
  },
  {
   "cell_type": "code",
   "execution_count": 107,
   "id": "4994e6c9074bc9f1",
   "metadata": {
    "ExecuteTime": {
     "end_time": "2023-11-22T19:00:03.336335Z",
     "start_time": "2023-11-22T19:00:02.978221Z"
    },
    "collapsed": false
   },
   "outputs": [
    {
     "name": "stderr",
     "output_type": "stream",
     "text": [
      "100%|██████████| 20/20 [00:00<00:00, 56.90it/s]\n"
     ]
    }
   ],
   "source": [
    "for page_items in tqdm(page_resultArray):\n",
    "    for item in page_items:\n",
    "        for title, data in item.items():\n",
    "            insertData(title=title, item=data)"
   ]
  }
 ],
 "metadata": {
  "kernelspec": {
   "display_name": "Python 3 (ipykernel)",
   "language": "python",
   "name": "python3"
  },
  "language_info": {
   "codemirror_mode": {
    "name": "ipython",
    "version": 3
   },
   "file_extension": ".py",
   "mimetype": "text/x-python",
   "name": "python",
   "nbconvert_exporter": "python",
   "pygments_lexer": "ipython3",
   "version": "3.8.1"
  }
 },
 "nbformat": 4,
 "nbformat_minor": 5
}
