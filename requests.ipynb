{
 "cells": [
  {
   "cell_type": "code",
   "execution_count": 30,
   "outputs": [],
   "source": [
    "# TODO: pip install pymysql requests beautifulsoup4 tqdm\n",
    "# 豆瓣源\n",
    "# TODO: pip install pymysql requests beautifulsoup4 tqdm -i https://pypi.douban.com/simple\n",
    "# 清华大学源\n",
    "# TODO: pip install pymysql requests beautifulsoup4 tqdm -i https://pypi.tuna.tsinghua.edu.cn/simple"
   ],
   "metadata": {
    "collapsed": false,
    "ExecuteTime": {
     "end_time": "2023-11-25T19:41:51.175630Z",
     "start_time": "2023-11-25T19:41:51.157937Z"
    }
   },
   "id": "320ebdece891e275"
  },
  {
   "cell_type": "code",
   "execution_count": 31,
   "id": "8b63924a2448b4b9",
   "metadata": {
    "collapsed": false,
    "ExecuteTime": {
     "end_time": "2023-11-25T19:41:51.189176Z",
     "start_time": "2023-11-25T19:41:51.178676Z"
    }
   },
   "outputs": [],
   "source": [
    "import pymysql\n",
    "\n",
    "# def replaceNT(content: str) -> str:\n",
    "#   return content.replace(\"\\n\", \"\").replace('\\t', \"\")\n",
    "\n",
    "replaceNT = lambda content : content.replace(\"\\n\", \"\").replace('\\t', \"\")\n",
    "\n",
    "def connectMySQL(insertData):\n",
    "    def wrapper(title: str, item: dict):\n",
    "        # 连接数据库\n",
    "        try:\n",
    "            connect = pymysql.connect(\n",
    "                host='localhost',\n",
    "                user='root',\n",
    "                password='root',\n",
    "                port=3306,\n",
    "                db='photoworldForPython',  # 指定数据库\n",
    "                autocommit=True,  # 自动提交到数据库\n",
    "                auth_plugin_map=\"mysql_native_password\"\n",
    "            )\n",
    "            # print(\"Databases Connect Success\")\n",
    "        \n",
    "            db = connect.cursor(pymysql.cursors.DictCursor)  # 创建游标，查询数据以字典形式返回，默认以元组形式返回\n",
    "            \n",
    "            insertData(db, title, item)\n",
    "            \n",
    "            db.close()  # 关闭数据库\n",
    "        except Exception as e:\n",
    "            print(\"Databases Connect Error:\", e)\n",
    "            pass\n",
    "    return wrapper\n",
    "@connectMySQL\n",
    "def insertData(db, title: str, item: dict) -> None:\n",
    "    title=title,\n",
    "    imgURL = item['imgurl'],\n",
    "    content = item['excerpt'],\n",
    "    tags = ', '.join(item['tags']),\n",
    "    time = item['Meta']['recent_time']['datetime'],\n",
    "    type = item['Meta']['recent_cat']['content'],\n",
    "    author = item['Meta']['recent_author']['content'],\n",
    "    detailsURL = item['link']\n",
    "    mysqlStatement = f'''\n",
    "                INSERT INTO PageForImage (title, imgURL, content, tags, time, type, author, detailsURL)\n",
    "                VALUES ('{title}', '{imgURL}', '{content}', '{tags}', '{time}', '{type}', '{author}', '{detailsURL}');\n",
    "            '''\n",
    "    db.execute(mysqlStatement)"
   ]
  },
  {
   "cell_type": "code",
   "execution_count": 32,
   "id": "initial_id",
   "metadata": {
    "collapsed": false,
    "ExecuteTime": {
     "end_time": "2023-11-25T19:41:51.900591Z",
     "start_time": "2023-11-25T19:41:51.192616Z"
    }
   },
   "outputs": [
    {
     "name": "stdout",
     "output_type": "stream",
     "text": [
      "11\n"
     ]
    }
   ],
   "source": [
    "import requests\n",
    "from bs4 import BeautifulSoup\n",
    "from tqdm import tqdm\n",
    "import time\n",
    "\n",
    "\n",
    "WAIT_TIME_SECONDS = 0  # 设置默认的等待时间\n",
    "# url = \"https://www.photoworld.com.cn/\"\n",
    "url = \"https://www.photoworld.com.cn/category/images\"\n",
    "# 获取页数\n",
    "def get_page_num(url: str):\n",
    "    try:\n",
    "        response = requests.get(url)\n",
    "        response.encoding = 'UTF-8'\n",
    "        \n",
    "        # 检查请求是否成功\n",
    "        if response.status_code == 200:\n",
    "            soup = BeautifulSoup(response.text, 'html.parser')\n",
    "            page_num = soup.find_all('a', {'class' : 'page-numbers'})[-2].string\n",
    "            return int(page_num)\n",
    "        else:\n",
    "            print(f\"请求失败，状态码：{response.status_code}\")\n",
    "            return None\n",
    "    except Exception as e:\n",
    "        print(f\"请求出错，错误信息：{e}\")\n",
    "        return None\n",
    "page_num = get_page_num(url)\n",
    "print(page_num)"
   ]
  },
  {
   "cell_type": "code",
   "execution_count": 33,
   "id": "7140485cb1f93463",
   "metadata": {
    "collapsed": false,
    "ExecuteTime": {
     "end_time": "2023-11-25T19:41:59.196040Z",
     "start_time": "2023-11-25T19:41:51.908237Z"
    }
   },
   "outputs": [
    {
     "name": "stderr",
     "output_type": "stream",
     "text": [
      "100%|██████████| 11/11 [00:07<00:00,  1.51it/s]\n"
     ]
    }
   ],
   "source": [
    "page_resultArray = []\n",
    "for num in tqdm(range(1,page_num+1)):\n",
    "    page_url = url + f'/page/{num}'\n",
    "    response = requests.get(url)\n",
    "    soup = BeautifulSoup(response.text, 'html.parser') if response.status_code == 200 else None\n",
    "    articles = soup.find_all('article')\n",
    "    resultArray = []\n",
    "    for article in articles:\n",
    "        data = {}\n",
    "        try:\n",
    "          imgurl = article.find('a').find('img').get('src')\n",
    "          link = article.find('h3').find('a').get('href')\n",
    "          title = replaceNT(article.find('h3').find('a').text)\n",
    "          excerpt = replaceNT(article.find('p', {'class': 'big-thumb-excerpt'}).text)\n",
    "          tags = [i.text for i in article.find('p', {'class': 'tag'}).find_all('a')]\n",
    "          recent_time = {'time': replaceNT(article.find('time', {'class': 'recent-time'}).text), 'datetime': article.find('time', {'class': 'recent-time'}).get('datetime')}\n",
    "          recent_cat = {\n",
    "              'content': article.find('span', {'class': 'recent-cat'}).text.replace(\"\\n\", \"\"),\n",
    "                        'url': article.find('span', {'class': 'recent-cat'}).find('a').get('href')\n",
    "                        }\n",
    "          recent_author = {\n",
    "              'content': article.find('span', {'class': 'recent-author'}).text.replace(\"\\n\", \"\"),\n",
    "              'url': article.find('span', {'class': 'recent-author'}).find('a').get('href')\n",
    "          }\n",
    "          data[title] = {\n",
    "                  \"imgurl\": imgurl,\n",
    "                  \"excerpt\": excerpt,\n",
    "                  \"tags\": tags,\n",
    "                  \"Meta\": {\n",
    "                      \"recent_time\": recent_time,\n",
    "                      \"recent_cat\": recent_cat,\n",
    "                      \"recent_author\": recent_author\n",
    "                  },\n",
    "                  \"link\": link\n",
    "              }\n",
    "          resultArray.append(data)\n",
    "        except Exception as e:\n",
    "          print(\"append data Error\", e)\n",
    "          resultArray.append(\"None\")\n",
    "        page_resultArray.append(resultArray)\n",
    "        time.sleep(WAIT_TIME_SECONDS)\n",
    "#     print(len(resultArray),end=\"===\" + page_url)\n",
    "print(len(page_resultArray))"
   ]
  },
  {
   "cell_type": "code",
   "execution_count": 36,
   "id": "4994e6c9074bc9f1",
   "metadata": {
    "collapsed": false,
    "ExecuteTime": {
     "end_time": "2023-11-25T19:44:29.097869Z",
     "start_time": "2023-11-25T19:44:25.712622Z"
    }
   },
   "outputs": [
    {
     "name": "stderr",
     "output_type": "stream",
     "text": [
      "100%|██████████| 220/220 [00:03<00:00, 65.02it/s]"
     ]
    },
    {
     "name": "stdout",
     "output_type": "stream",
     "text": [
      "220,4400,4400\n"
     ]
    },
    {
     "name": "stderr",
     "output_type": "stream",
     "text": [
      "\n"
     ]
    }
   ],
   "source": [
    "a = 0\n",
    "b = 0\n",
    "c = 0\n",
    "for page_items in tqdm(page_resultArray):\n",
    "    a = a + 1\n",
    "    for item in page_items:\n",
    "        b = b + 1\n",
    "        for title, data in item.items():\n",
    "            c = c + 1\n",
    "            insertData(title=title, item=data)\n",
    "print(f\"{a},{b},{c}\")"
   ]
  },
  {
   "cell_type": "code",
   "execution_count": null,
   "outputs": [],
   "source": [],
   "metadata": {
    "collapsed": false
   },
   "id": "fb2293ee630e6627"
  },
  {
   "cell_type": "code",
   "execution_count": null,
   "outputs": [],
   "source": [],
   "metadata": {
    "collapsed": false
   },
   "id": "7b5aab5d5f80797d"
  }
 ],
 "metadata": {
  "kernelspec": {
   "display_name": "Python 3 (ipykernel)",
   "language": "python",
   "name": "python3"
  },
  "language_info": {
   "codemirror_mode": {
    "name": "ipython",
    "version": 3
   },
   "file_extension": ".py",
   "mimetype": "text/x-python",
   "name": "python",
   "nbconvert_exporter": "python",
   "pygments_lexer": "ipython3",
   "version": "3.8.1"
  }
 },
 "nbformat": 4,
 "nbformat_minor": 5
}
