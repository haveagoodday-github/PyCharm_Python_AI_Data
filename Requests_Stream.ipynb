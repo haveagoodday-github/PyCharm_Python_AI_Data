{
 "cells": [
  {
   "cell_type": "code",
   "execution_count": 50,
   "id": "initial_id",
   "metadata": {
    "collapsed": true,
    "ExecuteTime": {
     "end_time": "2023-11-23T08:31:51.024292Z",
     "start_time": "2023-11-23T08:31:34.880928Z"
    }
   },
   "outputs": [],
   "source": [
    "from selenium import webdriver\n",
    "from selenium.webdriver.common.by import By\n",
    "import time\n",
    "dr = webdriver.Chrome()\n",
    "dr.set_window_size(height=1080, width=1920)\n",
    "dr.implicitly_wait(4)\n",
    "url = 'https://steamcommunity.com/app/2322560/reviews/'\n",
    "dr.get(url)"
   ]
  },
  {
   "cell_type": "code",
   "execution_count": 52,
   "outputs": [
    {
     "name": "stdout",
     "output_type": "stream",
     "text": [
      "['那方面贼猛', 'xxAEGG', 'JackeyLovely', '牛爷爷爱小丽', '崩登仓仓', '贞德的狗', '我也是个体面人', '狗头军师红国王', '3088982805', '唔好喊我饮酒', 'KENccgTAR', 'Mithril Uruz7', '1609194948', 'Professor Ozpin', '爆破手曾小贤', '1260355939', 'OriGinaL', 'かげやま瞬', 'Clow Read', 'Shiro', '你家成矿了', '炼金术士的戒指你太依赖枯猫侠了', '绊绊绊爱', 'Apinker', '秋山落叶', 'InterestingPsyche', 'G-GBond', '2658907388', '爆裂退堂鼓演奏家', '髮型監一郎', 'icski201', '在这么冷的天', 'Gourmet', 'pc', 'listen_ls', '639423016', 'JISOO', 'Eugene', '羊羽6698', 'Artifice122719', '灌口二郎显圣真君杨间', '奚落', 'C.c先森', '建寅十六', 'Ma|in', '十桑Zero', 'CampumNocte', 'iamkaka', '歌曲改变人生', 'White_55opean']\n"
     ]
    }
   ],
   "source": [
    "y = 0\n",
    "while True:\n",
    "    if y > 10000:\n",
    "        break\n",
    "    js = \"window.scrollTo(0, {})\".format(y)\n",
    "    dr.execute_script(js)\n",
    "    time.sleep(4)\n",
    "    y = y + 1920 # 每一次滚动的高度\n",
    "userinfo = dr.find_elements(By.CLASS_NAME, 'apphub_CardContentAuthorBlock')\n",
    "print([user.text.split(\"\\n\")[0] for user in userinfo])"
   ],
   "metadata": {
    "collapsed": false,
    "ExecuteTime": {
     "end_time": "2023-11-23T08:34:06.775264Z",
     "start_time": "2023-11-23T08:33:40.641968Z"
    }
   },
   "id": "c75ef3558cdf0cb"
  },
  {
   "cell_type": "code",
   "execution_count": null,
   "outputs": [],
   "source": [],
   "metadata": {
    "collapsed": false
   },
   "id": "1d62397aaa25a7c6"
  }
 ],
 "metadata": {
  "kernelspec": {
   "display_name": "Python 3",
   "language": "python",
   "name": "python3"
  },
  "language_info": {
   "codemirror_mode": {
    "name": "ipython",
    "version": 2
   },
   "file_extension": ".py",
   "mimetype": "text/x-python",
   "name": "python",
   "nbconvert_exporter": "python",
   "pygments_lexer": "ipython2",
   "version": "2.7.6"
  }
 },
 "nbformat": 4,
 "nbformat_minor": 5
}
